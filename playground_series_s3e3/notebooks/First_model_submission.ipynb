{
 "cells": [
  {
   "cell_type": "markdown",
   "id": "d23a6609",
   "metadata": {},
   "source": [
    "# 1. Imports "
   ]
  },
  {
   "cell_type": "code",
   "execution_count": 1,
   "id": "10430b12",
   "metadata": {},
   "outputs": [],
   "source": [
    "import pandas as pd\n",
    "import numpy as np\n",
    "from matplotlib import pyplot as plt\n",
    "import seaborn as sns\n",
    "from sklearn.model_selection import StratifiedKFold, train_test_split, GridSearchCV\n",
    "from sklearn.metrics import roc_auc_score\n",
    "from IPython.display import display\n",
    "from sklearn.metrics import roc_auc_score\n",
    "from xgboost import XGBClassifier\n",
    "from lightgbm import LGBMClassifier\n",
    "from sklearn.preprocessing import OneHotEncoder\n",
    "from pathlib import Path"
   ]
  },
  {
   "cell_type": "code",
   "execution_count": 2,
   "id": "1322dec4",
   "metadata": {},
   "outputs": [],
   "source": [
    "import warnings\n",
    "warnings.filterwarnings('ignore')"
   ]
  },
  {
   "cell_type": "markdown",
   "id": "32332d61",
   "metadata": {},
   "source": [
    "# 2. Load data "
   ]
  },
  {
   "cell_type": "code",
   "execution_count": 3,
   "id": "f42ba62b",
   "metadata": {},
   "outputs": [
    {
     "name": "stdout",
     "output_type": "stream",
     "text": [
      "Train dataframe shape: (1677, 34)\n",
      "Test dataframe shape: (1119, 33)\n"
     ]
    }
   ],
   "source": [
    "train_df = pd.read_csv('../data/train.csv').drop(columns='id')\n",
    "#We keep the test_df indexes for submission before droping them \n",
    "test_df = pd.read_csv('../data/test.csv')\n",
    "test_idx = test_df ['id']\n",
    "test_df = test_df.drop(columns='id')\n",
    "print(f'Train dataframe shape: {train_df.shape}')\n",
    "print(f'Test dataframe shape: {test_df.shape}')\n",
    "TARGET = 'Attrition'\n",
    "FEATURES = [col for col in train_df.columns if col not in ['row_id',TARGET]]\n",
    "\n",
    "#People has demonstrated that incorporating original data, improves scores in the public leaderboard\n",
    "original_df = pd.read_csv('../data/WA_Fn-UseC_-HR-Employee-Attrition.csv').drop(columns='EmployeeNumber')"
   ]
  },
  {
   "attachments": {},
   "cell_type": "markdown",
   "id": "43405567",
   "metadata": {},
   "source": [
    "# 3. Preprocess data "
   ]
  },
  {
   "cell_type": "code",
   "execution_count": 4,
   "id": "4a312267",
   "metadata": {},
   "outputs": [],
   "source": [
    "# Drop unnecessary features\n",
    "\n",
    "def preprocess_dataset(df): \n",
    "    DROP_FEATURES = ['EmployeeCount', 'Over18', 'StandardHours', 'JobRole', 'JobLevel', 'MaritalStatus','PerformanceRating']\n",
    "    # Drop unnecessary features\n",
    "    df = df.drop(columns=DROP_FEATURES)\n",
    "\n",
    "    # Feature Engineering\n",
    "    df['MonthlyIncome/Age'] = df['MonthlyIncome'] / df['Age']\n",
    "    df[\"Age_risk\"] = (df[\"Age\"] < 34).astype(int)\n",
    "    df[\"HourlyRate_risk\"] = (df[\"HourlyRate\"] < 60).astype(int)\n",
    "    df[\"Distance_risk\"] = (df[\"DistanceFromHome\"] >= 20).astype(int)\n",
    "    df[\"YearsAtCo_risk\"] = (df[\"YearsAtCompany\"] < 4).astype(int)\n",
    "    df['NumCompaniesWorked'] = df['NumCompaniesWorked'].replace(0, 1)\n",
    "    df['AverageTenure'] = df[\"TotalWorkingYears\"] / df[\"NumCompaniesWorked\"]\n",
    "    df['JobHopper'] = ((df[\"NumCompaniesWorked\"] > 2) & (df[\"AverageTenure\"] < 2.0)).astype(int)\n",
    "    df[\"AttritionRisk\"] = df[\"Age_risk\"] + df[\"HourlyRate_risk\"] + df[\"Distance_risk\"] + df[\"YearsAtCo_risk\"] + df['JobHopper']\n",
    "    return df\n",
    "\n",
    "train_df = preprocess_dataset(train_df)\n",
    "test_df = preprocess_dataset(test_df)"
   ]
  },
  {
   "cell_type": "code",
   "execution_count": 5,
   "id": "553fb3ed",
   "metadata": {},
   "outputs": [],
   "source": [
    "# Encode categorical features \n",
    "travel_dict = {\n",
    "    'Non-Travel': 0, \n",
    "    'Travel_Rarely': 1,\n",
    "    'Travel_Frequently': 2}\n",
    "# Encode Business Travel ordinal feature\n",
    "train_df['BusinessTravel'] = train_df['BusinessTravel'].map(travel_dict)\n",
    "test_df['BusinessTravel'] = test_df['BusinessTravel'].map(travel_dict)\n",
    "\n",
    "# Regarding the string categorical nominal features OneHotEncoding can be used with drop first parameter as true\n",
    "for col in ['Department', 'EducationField','Gender','OverTime']:  \n",
    "    enc = OneHotEncoder(drop='first', categories='auto')\n",
    "    enc.fit(np.array(train_df[col]).reshape(-1,1))\n",
    "\n",
    "    train_df[col] = enc.transform(np.array(train_df[col]).reshape(-1,1)).todense()\n",
    "    test_df[col] = enc.transform(np.array(test_df[col]).reshape(-1,1)).todense()"
   ]
  },
  {
   "attachments": {},
   "cell_type": "markdown",
   "id": "724c7337",
   "metadata": {},
   "source": [
    "# 4. Train baseline model and create submission_csv"
   ]
  },
  {
   "cell_type": "code",
   "execution_count": 6,
   "id": "9e950250",
   "metadata": {},
   "outputs": [
    {
     "data": {
      "text/plain": [
       "LGBMClassifier(metric='auc', objective='binary')"
      ]
     },
     "execution_count": 6,
     "metadata": {},
     "output_type": "execute_result"
    }
   ],
   "source": [
    "X_train = train_df.loc[:, train_df.columns != 'Attrition']\n",
    "y_train = train_df['Attrition']\n",
    "\n",
    "lgbm = LGBMClassifier(objective='binary', metric = 'auc', n_estimators=100)\n",
    "lgbm.fit(X_train, y_train)"
   ]
  },
  {
   "cell_type": "code",
   "execution_count": 51,
   "id": "def39af1",
   "metadata": {},
   "outputs": [
    {
     "data": {
      "text/plain": [
       "0       1677\n",
       "1       1678\n",
       "2       1679\n",
       "3       1680\n",
       "4       1681\n",
       "        ... \n",
       "1114    2791\n",
       "1115    2792\n",
       "1116    2793\n",
       "1117    2794\n",
       "1118    2795\n",
       "Name: id, Length: 1119, dtype: int64"
      ]
     },
     "execution_count": 51,
     "metadata": {},
     "output_type": "execute_result"
    }
   ],
   "source": []
  },
  {
   "cell_type": "code",
   "execution_count": 52,
   "id": "bedc7f16",
   "metadata": {},
   "outputs": [],
   "source": [
    "pd.DataFrame({\n",
    "    'id': pd.read_csv('../data/sample_submission.csv')['id'],\n",
    "    'Attrition':  lgbm.predict_proba(test_df.values)[:,1] }).to_csv('../data/first_submission.csv', index=False)"
   ]
  },
  {
   "cell_type": "code",
   "execution_count": null,
   "id": "96326ab8",
   "metadata": {},
   "outputs": [],
   "source": []
  }
 ],
 "metadata": {
  "kernelspec": {
   "display_name": "cbank_env",
   "language": "python",
   "name": "python3"
  },
  "language_info": {
   "codemirror_mode": {
    "name": "ipython",
    "version": 3
   },
   "file_extension": ".py",
   "mimetype": "text/x-python",
   "name": "python",
   "nbconvert_exporter": "python",
   "pygments_lexer": "ipython3",
   "version": "3.7.0"
  },
  "vscode": {
   "interpreter": {
    "hash": "6aca90edd22448ced38c1ee9d69b3aac48e40bd386f640c2dd5ce2a9526c65ef"
   }
  }
 },
 "nbformat": 4,
 "nbformat_minor": 5
}
